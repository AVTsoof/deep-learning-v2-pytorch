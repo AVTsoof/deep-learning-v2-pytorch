{
 "cells": [
  {
   "cell_type": "markdown",
   "metadata": {},
   "source": [
    "# Inference and Validation\n",
    "\n",
    "Now that you have a trained network, you can use it for making predictions. This is typically called **inference**, a term borrowed from statistics. However, neural networks have a tendency to perform *too well* on the training data and aren't able to generalize to data that hasn't been seen before. This is called **overfitting** and it impairs inference performance. To test for overfitting while training, we measure the performance on data not in the training set called the **validation** set. We avoid overfitting through regularization such as dropout while monitoring the validation performance during training. In this notebook, I'll show you how to do this in PyTorch. \n",
    "\n",
    "As usual, let's start by loading the dataset through torchvision. You'll learn more about torchvision and loading data in a later part. This time we'll be taking advantage of the test set which you can get by setting `train=False` here:\n",
    "\n",
    "```python\n",
    "testset = datasets.FashionMNIST('~/.pytorch/F_MNIST_data/', download=True, train=False, transform=transform)\n",
    "```\n",
    "\n",
    "The test set contains images just like the training set. Typically you'll see 10-20% of the original dataset held out for testing and validation with the rest being used for training."
   ]
  },
  {
   "cell_type": "code",
   "execution_count": 1,
   "metadata": {},
   "outputs": [
    {
     "name": "stderr",
     "output_type": "stream",
     "text": [
      "/home/tsoof/miniconda3/envs/deep-learning/lib/python3.6/site-packages/torchvision/datasets/mnist.py:498: UserWarning: The given NumPy array is not writeable, and PyTorch does not support non-writeable tensors. This means you can write to the underlying (supposedly non-writeable) NumPy array using the tensor. You may want to copy the array to protect its data or make it writeable before converting it to a tensor. This type of warning will be suppressed for the rest of this program. (Triggered internally at  /opt/conda/conda-bld/pytorch_1631630806732/work/torch/csrc/utils/tensor_numpy.cpp:180.)\n",
      "  return torch.from_numpy(parsed.astype(m[2], copy=False)).view(*s)\n"
     ]
    }
   ],
   "source": [
    "import torch\n",
    "from torchvision import datasets, transforms\n",
    "\n",
    "# Define a transform to normalize the data\n",
    "transform = transforms.Compose([transforms.ToTensor(),\n",
    "                                transforms.Normalize((0.5,), (0.5,))])\n",
    "# Download and load the training data\n",
    "trainset = datasets.FashionMNIST('~/.pytorch/F_MNIST_data/', download=True, train=True, transform=transform)\n",
    "trainloader = torch.utils.data.DataLoader(trainset, batch_size=64, shuffle=True)\n",
    "\n",
    "# Download and load the test data\n",
    "testset = datasets.FashionMNIST('~/.pytorch/F_MNIST_data/', download=True, train=False, transform=transform)\n",
    "testloader = torch.utils.data.DataLoader(testset, batch_size=64, shuffle=True)"
   ]
  },
  {
   "cell_type": "markdown",
   "metadata": {},
   "source": [
    "Here I'll create a model like normal, using the same one from my solution for part 4."
   ]
  },
  {
   "cell_type": "code",
   "execution_count": 2,
   "metadata": {},
   "outputs": [],
   "source": [
    "from torch import nn, optim\n",
    "import torch.nn.functional as F\n",
    "\n",
    "class Classifier(nn.Module):\n",
    "    def __init__(self):\n",
    "        super().__init__()\n",
    "        self.fc1 = nn.Linear(784, 256)\n",
    "        self.fc2 = nn.Linear(256, 128)\n",
    "        self.fc3 = nn.Linear(128, 64)\n",
    "        self.fc4 = nn.Linear(64, 10)\n",
    "        \n",
    "    def forward(self, x):\n",
    "        # make sure input tensor is flattened\n",
    "        x = x.view(x.shape[0], -1)\n",
    "        \n",
    "        x = F.relu(self.fc1(x))\n",
    "        x = F.relu(self.fc2(x))\n",
    "        x = F.relu(self.fc3(x))\n",
    "        x = F.log_softmax(self.fc4(x), dim=1)\n",
    "        \n",
    "        return x"
   ]
  },
  {
   "cell_type": "markdown",
   "metadata": {},
   "source": [
    "The goal of validation is to measure the model's performance on data that isn't part of the training set. Performance here is up to the developer to define though. Typically this is just accuracy, the percentage of classes the network predicted correctly. Other options are [precision and recall](https://en.wikipedia.org/wiki/Precision_and_recall#Definition_(classification_context)) and top-5 error rate. We'll focus on accuracy here. First I'll do a forward pass with one batch from the test set."
   ]
  },
  {
   "cell_type": "code",
   "execution_count": 3,
   "metadata": {},
   "outputs": [
    {
     "name": "stdout",
     "output_type": "stream",
     "text": [
      "torch.Size([64, 10])\n"
     ]
    }
   ],
   "source": [
    "model = Classifier()\n",
    "\n",
    "images, labels = next(iter(testloader))\n",
    "# Get the class probabilities\n",
    "ps = torch.exp(model(images)) # use exp because logits are LogSoftmax\n",
    "# Make sure the shape is appropriate, we should get 10 class probabilities for 64 examples\n",
    "print(ps.shape)"
   ]
  },
  {
   "cell_type": "markdown",
   "metadata": {},
   "source": [
    "With the probabilities, we can get the most likely class using the `ps.topk` method. This returns the $k$ highest values. Since we just want the most likely class, we can use `ps.topk(1)`. This returns a tuple of the top-$k$ values and the top-$k$ indices. If the highest value is the fifth element, we'll get back 4 as the index."
   ]
  },
  {
   "cell_type": "code",
   "execution_count": 4,
   "metadata": {},
   "outputs": [
    {
     "name": "stdout",
     "output_type": "stream",
     "text": [
      "tensor([[0],\n",
      "        [0],\n",
      "        [0],\n",
      "        [7],\n",
      "        [0],\n",
      "        [7],\n",
      "        [0],\n",
      "        [7],\n",
      "        [7],\n",
      "        [7]])\n"
     ]
    }
   ],
   "source": [
    "top_p, top_class = ps.topk(1, dim=1)\n",
    "# Look at the most likely classes for the first 10 examples\n",
    "print(top_class[:10,:])"
   ]
  },
  {
   "cell_type": "markdown",
   "metadata": {},
   "source": [
    "Now we can check if the predicted classes match the labels. This is simple to do by equating `top_class` and `labels`, but we have to be careful of the shapes. Here `top_class` is a 2D tensor with shape `(64, 1)` while `labels` is 1D with shape `(64)`. To get the equality to work out the way we want, `top_class` and `labels` must have the same shape.\n",
    "\n",
    "If we do\n",
    "\n",
    "```python\n",
    "equals = top_class == labels\n",
    "```\n",
    "\n",
    "`equals` will have shape `(64, 64)`, try it yourself. What it's doing is comparing the one element in each row of `top_class` with each element in `labels` which returns 64 True/False boolean values for each row."
   ]
  },
  {
   "cell_type": "code",
   "execution_count": 12,
   "metadata": {},
   "outputs": [],
   "source": [
    "# use (*) For unpacking the top_class shape container\n",
    "# this will transform the labels to the same shape of top_class\n",
    "equals = top_class == labels.view(*top_class.shape)"
   ]
  },
  {
   "cell_type": "markdown",
   "metadata": {},
   "source": [
    "Now we need to calculate the percentage of correct predictions. `equals` has binary values, either 0 or 1. This means that if we just sum up all the values and divide by the number of values, we get the percentage of correct predictions. This is the same operation as taking the mean, so we can get the accuracy with a call to `torch.mean`. If only it was that simple. If you try `torch.mean(equals)`, you'll get an error\n",
    "\n",
    "```\n",
    "RuntimeError: mean is not implemented for type torch.ByteTensor\n",
    "```\n",
    "\n",
    "This happens because `equals` has type `torch.ByteTensor` but `torch.mean` isn't implemented for tensors with that type. So we'll need to convert `equals` to a float tensor. Note that when we take `torch.mean` it returns a scalar tensor, to get the actual value as a float we'll need to do `accuracy.item()`."
   ]
  },
  {
   "cell_type": "code",
   "execution_count": 13,
   "metadata": {},
   "outputs": [
    {
     "name": "stdout",
     "output_type": "stream",
     "text": [
      "Accuracy: 7.8125%\n"
     ]
    }
   ],
   "source": [
    "accuracy = torch.mean(equals.type(torch.FloatTensor))\n",
    "print(f'Accuracy: {accuracy.item()*100}%')"
   ]
  },
  {
   "cell_type": "markdown",
   "metadata": {},
   "source": [
    "The network is untrained so it's making random guesses and we should see an accuracy around 10%. Now let's train our network and include our validation pass so we can measure how well the network is performing on the test set. Since we're not updating our parameters in the validation pass, we can speed up our code by turning off gradients using `torch.no_grad()`:\n",
    "\n",
    "```python\n",
    "# turn off gradients\n",
    "with torch.no_grad():\n",
    "    # validation pass here\n",
    "    for images, labels in testloader:\n",
    "        ...\n",
    "```\n",
    "\n",
    ">**Exercise:** Implement the validation loop below and print out the total accuracy after the loop. You can largely copy and paste the code from above, but I suggest typing it in because writing it out yourself is essential for building the skill. In general you'll always learn more by typing it rather than copy-pasting. You should be able to get an accuracy above 80%."
   ]
  },
  {
   "cell_type": "code",
   "execution_count": 42,
   "metadata": {
    "scrolled": true
   },
   "outputs": [
    {
     "name": "stdout",
     "output_type": "stream",
     "text": [
      "epoch 1/30\n",
      "Training Loss: 0.5174805406631946\n",
      "Validation Loss: 0.46487206125714975\n",
      "Validation Accuracy: 83.61862897872925%\n",
      "epoch 2/30\n",
      "Training Loss: 0.3892931119242965\n",
      "Validation Loss: 0.39376798832112814\n",
      "Validation Accuracy: 85.39012670516968%\n",
      "epoch 3/30\n",
      "Training Loss: 0.3531031159402084\n",
      "Validation Loss: 0.416727794583436\n",
      "Validation Accuracy: 85.41003465652466%\n",
      "epoch 4/30\n",
      "Training Loss: 0.3315768271748191\n",
      "Validation Loss: 0.380209743976593\n",
      "Validation Accuracy: 86.44506335258484%\n",
      "epoch 5/30\n",
      "Training Loss: 0.3134365180836939\n",
      "Validation Loss: 0.3706336568115623\n",
      "Validation Accuracy: 86.67396306991577%\n",
      "epoch 6/30\n",
      "Training Loss: 0.30326265826630694\n",
      "Validation Loss: 0.3872142425578111\n",
      "Validation Accuracy: 86.2161636352539%\n",
      "epoch 7/30\n",
      "Training Loss: 0.29002943735863607\n",
      "Validation Loss: 0.3659085934139361\n",
      "Validation Accuracy: 87.31091022491455%\n",
      "epoch 8/30\n",
      "Training Loss: 0.27737309558908824\n",
      "Validation Loss: 0.3904480621408505\n",
      "Validation Accuracy: 86.71377301216125%\n",
      "epoch 9/30\n",
      "Training Loss: 0.2703568320919964\n",
      "Validation Loss: 0.3817478931823354\n",
      "Validation Accuracy: 86.62420511245728%\n",
      "epoch 10/30\n",
      "Training Loss: 0.2640716630433287\n",
      "Validation Loss: 0.36087046876834455\n",
      "Validation Accuracy: 88.03741931915283%\n",
      "epoch 11/30\n",
      "Training Loss: 0.256470350632027\n",
      "Validation Loss: 0.3523244871075746\n",
      "Validation Accuracy: 88.31608295440674%\n",
      "epoch 12/30\n",
      "Training Loss: 0.25248347733145965\n",
      "Validation Loss: 0.3553327969305075\n",
      "Validation Accuracy: 87.84832954406738%\n",
      "epoch 13/30\n",
      "Training Loss: 0.24319128043202956\n",
      "Validation Loss: 0.37488482579304155\n",
      "Validation Accuracy: 87.88813948631287%\n",
      "epoch 14/30\n",
      "Training Loss: 0.24397519309478782\n",
      "Validation Loss: 0.3699921410839269\n",
      "Validation Accuracy: 87.71895170211792%\n",
      "epoch 15/30\n",
      "Training Loss: 0.23390560858507656\n",
      "Validation Loss: 0.38208535610205807\n",
      "Validation Accuracy: 87.28104829788208%\n",
      "epoch 16/30\n",
      "Training Loss: 0.23200654849680122\n",
      "Validation Loss: 0.3527699540944616\n",
      "Validation Accuracy: 88.50517272949219%\n",
      "epoch 17/30\n",
      "Training Loss: 0.22271746263575198\n",
      "Validation Loss: 0.40913325130559836\n",
      "Validation Accuracy: 87.45023608207703%\n",
      "epoch 18/30\n",
      "Training Loss: 0.2224024564289907\n",
      "Validation Loss: 0.3864013005024309\n",
      "Validation Accuracy: 87.7786636352539%\n",
      "epoch 19/30\n",
      "Training Loss: 0.21616447487794388\n",
      "Validation Loss: 0.3609401155500465\n",
      "Validation Accuracy: 88.33598494529724%\n",
      "epoch 20/30\n",
      "Training Loss: 0.21438432708462038\n",
      "Validation Loss: 0.4033231585743321\n",
      "Validation Accuracy: 87.84832954406738%\n",
      "epoch 21/30\n",
      "Training Loss: 0.21360695128565405\n",
      "Validation Loss: 0.3747592211054389\n",
      "Validation Accuracy: 87.65923380851746%\n",
      "epoch 22/30\n",
      "Training Loss: 0.20659013428906006\n",
      "Validation Loss: 0.36952980512836175\n",
      "Validation Accuracy: 88.4753167629242%\n",
      "epoch 23/30\n",
      "Training Loss: 0.20460420379887767\n",
      "Validation Loss: 0.3945640732243562\n",
      "Validation Accuracy: 88.18670511245728%\n",
      "epoch 24/30\n",
      "Training Loss: 0.1986680992289202\n",
      "Validation Loss: 0.3965454424737365\n",
      "Validation Accuracy: 88.23646306991577%\n",
      "epoch 25/30\n",
      "Training Loss: 0.19387778759336294\n",
      "Validation Loss: 0.3934608236856901\n",
      "Validation Accuracy: 88.52508068084717%\n",
      "epoch 26/30\n",
      "Training Loss: 0.18974588291127797\n",
      "Validation Loss: 0.4311875404825636\n",
      "Validation Accuracy: 87.37062215805054%\n",
      "epoch 27/30\n",
      "Training Loss: 0.19097888595593382\n",
      "Validation Loss: 0.40323270956991586\n",
      "Validation Accuracy: 88.1369411945343%\n",
      "epoch 28/30\n",
      "Training Loss: 0.18151819213494055\n",
      "Validation Loss: 0.4304531743382193\n",
      "Validation Accuracy: 87.7786636352539%\n",
      "epoch 29/30\n",
      "Training Loss: 0.18751482417119908\n",
      "Validation Loss: 0.4131059364718237\n",
      "Validation Accuracy: 87.61942386627197%\n",
      "epoch 30/30\n",
      "Training Loss: 0.17963368404926713\n",
      "Validation Loss: 0.3954493244931956\n",
      "Validation Accuracy: 88.64450454711914%\n"
     ]
    }
   ],
   "source": [
    "model = Classifier()\n",
    "criterion = nn.NLLLoss()\n",
    "optimizer = optim.Adam(model.parameters(), lr=0.003)\n",
    "\n",
    "epochs = 30\n",
    "steps = 0\n",
    "\n",
    "train_losses, test_losses = [], []  # per epoch\n",
    "for e in range(epochs):\n",
    "    running_train_loss = 0\n",
    "    \n",
    "    for images, labels in trainloader:\n",
    "        optimizer.zero_grad()\n",
    "        \n",
    "        log_ps = model(images)\n",
    "        loss = criterion(log_ps, labels)\n",
    "        loss.backward()\n",
    "        optimizer.step()\n",
    "        \n",
    "        running_train_loss += loss.item()\n",
    "        \n",
    "    else:  # will execute after trainloader's for loop is done\n",
    "        ## Implement the validation pass and print out the validation accuracy\n",
    "        running_test_loss = 0\n",
    "        with torch.no_grad():\n",
    "            running_accuracy = 0\n",
    "            for images, labels in iter(testloader):\n",
    "                log_ps = model(images)\n",
    "                loss = criterion(log_ps, labels)\n",
    "\n",
    "                ps = torch.exp(log_ps)\n",
    "                top_p, top_class = ps.topk(1, dim=1)\n",
    "                equals = top_class == labels.view(*top_class.shape)\n",
    "                \n",
    "                running_accuracy += torch.mean(equals.type(torch.FloatTensor))\n",
    "                running_test_loss += loss.item()\n",
    "                \n",
    "    accuracy = running_accuracy / len(testloader)\n",
    "    \n",
    "    train_loss, test_loss = running_train_loss/len(trainloader), running_test_loss/len(testloader)\n",
    "    train_losses += [train_loss]\n",
    "    test_losses += [test_loss]\n",
    "    print(f\"epoch {e+1}/{epochs}\")\n",
    "    print(f'Training Loss: {train_loss}')\n",
    "    print(f'Validation Loss: {test_loss}')\n",
    "    print(f'Validation Accuracy: {accuracy.item()*100}%')\n",
    "    "
   ]
  },
  {
   "cell_type": "code",
   "execution_count": 43,
   "metadata": {},
   "outputs": [
    {
     "data": {
      "image/png": "[encoded data removed]",
      "text/plain": [
       "<Figure size 432x288 with 1 Axes>"
      ]
     },
     "metadata": {
      "needs_background": "light"
     },
     "output_type": "display_data"
    }
   ],
   "source": [
    "%matplotlib inline\n",
    "import matplotlib.pyplot as plt\n",
    "\n",
    "plt.figure()\n",
    "plt.plot(train_losses)\n",
    "plt.plot(test_losses)\n",
    "plt.legend([\"Training loss\", \"Validation loss\"])\n",
    "plt.show()"
   ]
  },
  {
   "cell_type": "markdown",
   "metadata": {},
   "source": [
    "## Overfitting\n",
    "\n",
    "If we look at the training and validation losses as we train the network, we can see a phenomenon known as overfitting.\n",
    "\n",
    "<img src='assets/overfitting.png' width=450px>\n",
    "\n",
    "The network learns the training set better and better, resulting in lower training losses. However, it starts having problems generalizing to data outside the training set leading to the validation loss increasing. The ultimate goal of any deep learning model is to make predictions on new data, so we should strive to get the lowest validation loss possible. One option is to use the version of the model with the lowest validation loss, here the one around 8-10 training epochs. This strategy is called *early-stopping*. In practice, you'd save the model frequently as you're training then later choose the model with the lowest validation loss.\n",
    "\n",
    "The most common method to reduce overfitting (outside of early-stopping) is *dropout*, where we randomly drop input units. This forces the network to share information between weights, increasing it's ability to generalize to new data. Adding dropout in PyTorch is straightforward using the [`nn.Dropout`](https://pytorch.org/docs/stable/nn.html#torch.nn.Dropout) module.\n",
    "\n",
    "```python\n",
    "class Classifier(nn.Module):\n",
    "    def __init__(self):\n",
    "        super().__init__()\n",
    "        self.fc1 = nn.Linear(784, 256)\n",
    "        self.fc2 = nn.Linear(256, 128)\n",
    "        self.fc3 = nn.Linear(128, 64)\n",
    "        self.fc4 = nn.Linear(64, 10)\n",
    "        \n",
    "        # Dropout module with 0.2 drop probability\n",
    "        self.dropout = nn.Dropout(p=0.2)\n",
    "        \n",
    "    def forward(self, x):\n",
    "        # make sure input tensor is flattened\n",
    "        x = x.view(x.shape[0], -1)\n",
    "        \n",
    "        # Now with dropout\n",
    "        x = self.dropout(F.relu(self.fc1(x)))\n",
    "        x = self.dropout(F.relu(self.fc2(x)))\n",
    "        x = self.dropout(F.relu(self.fc3(x)))\n",
    "        \n",
    "        # output so no dropout here\n",
    "        x = F.log_softmax(self.fc4(x), dim=1)\n",
    "        \n",
    "        return x\n",
    "```\n",
    "\n",
    "During training we want to use dropout to prevent overfitting, but during inference we want to use the entire network. So, we need to turn off dropout during validation, testing, and whenever we're using the network to make predictions. To do this, you use `model.eval()`. This sets the model to evaluation mode where the dropout probability is 0. You can turn dropout back on by setting the model to train mode with `model.train()`. In general, the pattern for the validation loop will look like this, where you turn off gradients, set the model to evaluation mode, calculate the validation loss and metric, then set the model back to train mode.\n",
    "\n",
    "```python\n",
    "# turn off gradients\n",
    "with torch.no_grad():\n",
    "    \n",
    "    # set model to evaluation mode\n",
    "    model.eval()\n",
    "    \n",
    "    # validation pass here\n",
    "    for images, labels in testloader:\n",
    "        ...\n",
    "\n",
    "# set model back to train mode\n",
    "model.train()\n",
    "```"
   ]
  },
  {
   "cell_type": "markdown",
   "metadata": {},
   "source": [
    "> **Exercise:** Add dropout to your model and train it on Fashion-MNIST again. See if you can get a lower validation loss or higher accuracy."
   ]
  },
  {
   "cell_type": "code",
   "execution_count": 45,
   "metadata": {},
   "outputs": [],
   "source": [
    "## Define your model with dropout added\n",
    "from torch import nn, optim\n",
    "import torch.nn.functional as F\n",
    "\n",
    "class Classifier(nn.Module):\n",
    "    def __init__(self):\n",
    "        super().__init__()\n",
    "        self.fc1 = nn.Linear(784, 256)\n",
    "        self.fc2 = nn.Linear(256, 128)\n",
    "        self.fc3 = nn.Linear(128, 64)\n",
    "        self.fc4 = nn.Linear(64, 10)\n",
    "        \n",
    "        self.dropout = nn.Dropout(p=0.2)\n",
    "        \n",
    "    def forward(self, x):\n",
    "        # make sure input tensor is flattened\n",
    "        x = x.view(x.shape[0], -1)\n",
    "        \n",
    "        x = self.dropout(F.relu(self.fc1(x)))\n",
    "        x = self.dropout(F.relu(self.fc2(x)))\n",
    "        x = self.dropout(F.relu(self.fc3(x)))\n",
    "        x = F.log_softmax(self.fc4(x), dim=1)\n",
    "        \n",
    "        return x"
   ]
  },
  {
   "cell_type": "code",
   "execution_count": 46,
   "metadata": {},
   "outputs": [
    {
     "name": "stdout",
     "output_type": "stream",
     "text": [
      "epoch 1/30\n",
      "Training Loss: 0.613081422950159\n",
      "Validation Loss: 0.47289443186893587\n",
      "Validation Accuracy: 83.1409215927124%\n",
      "epoch 2/30\n",
      "Training Loss: 0.4891121276437855\n",
      "Validation Loss: 0.4559467929373881\n",
      "Validation Accuracy: 83.79777073860168%\n",
      "epoch 3/30\n",
      "Training Loss: 0.4540229631639493\n",
      "Validation Loss: 0.4060855910276911\n",
      "Validation Accuracy: 85.07165312767029%\n",
      "epoch 4/30\n",
      "Training Loss: 0.43353616276275375\n",
      "Validation Loss: 0.40552621785622495\n",
      "Validation Accuracy: 85.43989062309265%\n",
      "epoch 5/30\n",
      "Training Loss: 0.4164002312780189\n",
      "Validation Loss: 0.3936139050942318\n",
      "Validation Accuracy: 85.54936051368713%\n",
      "epoch 6/30\n",
      "Training Loss: 0.4144481863262557\n",
      "Validation Loss: 0.3962224527339267\n",
      "Validation Accuracy: 86.09673380851746%\n",
      "epoch 7/30\n",
      "Training Loss: 0.40253383748884647\n",
      "Validation Loss: 0.3925132457238094\n",
      "Validation Accuracy: 85.88773608207703%\n",
      "epoch 8/30\n",
      "Training Loss: 0.401122024985773\n",
      "Validation Loss: 0.38267840226744393\n",
      "Validation Accuracy: 86.16639971733093%\n",
      "epoch 9/30\n",
      "Training Loss: 0.3978920296819479\n",
      "Validation Loss: 0.3772640007126863\n",
      "Validation Accuracy: 86.75358295440674%\n",
      "epoch 10/30\n",
      "Training Loss: 0.38685096304681\n",
      "Validation Loss: 0.4017254770466476\n",
      "Validation Accuracy: 86.01711988449097%\n",
      "epoch 11/30\n",
      "Training Loss: 0.38924170287051946\n",
      "Validation Loss: 0.38603467845423206\n",
      "Validation Accuracy: 86.65406107902527%\n",
      "epoch 12/30\n",
      "Training Loss: 0.38414570509688434\n",
      "Validation Loss: 0.4049896949985225\n",
      "Validation Accuracy: 85.92754602432251%\n",
      "epoch 13/30\n",
      "Training Loss: 0.37654892417159413\n",
      "Validation Loss: 0.37921157113875553\n",
      "Validation Accuracy: 86.40525341033936%\n",
      "epoch 14/30\n",
      "Training Loss: 0.37811151907038587\n",
      "Validation Loss: 0.39696030128913323\n",
      "Validation Accuracy: 85.46974658966064%\n",
      "epoch 15/30\n",
      "Training Loss: 0.3686848436512037\n",
      "Validation Loss: 0.3868669365431852\n",
      "Validation Accuracy: 86.74362897872925%\n",
      "epoch 16/30\n",
      "Training Loss: 0.36891324846729284\n",
      "Validation Loss: 0.382609025308281\n",
      "Validation Accuracy: 86.47491931915283%\n",
      "epoch 17/30\n",
      "Training Loss: 0.3728937118578313\n",
      "Validation Loss: 0.4026563867072391\n",
      "Validation Accuracy: 85.79816818237305%\n",
      "epoch 18/30\n",
      "Training Loss: 0.3601252719013294\n",
      "Validation Loss: 0.3825946229088838\n",
      "Validation Accuracy: 86.8332028388977%\n",
      "epoch 19/30\n",
      "Training Loss: 0.3588191531121985\n",
      "Validation Loss: 0.3653611860647323\n",
      "Validation Accuracy: 87.28104829788208%\n",
      "epoch 20/30\n",
      "Training Loss: 0.3500789602332786\n",
      "Validation Loss: 0.3823544098313447\n",
      "Validation Accuracy: 87.02229261398315%\n",
      "epoch 21/30\n",
      "Training Loss: 0.36032960648094414\n",
      "Validation Loss: 0.36961271708748145\n",
      "Validation Accuracy: 87.06210255622864%\n",
      "epoch 22/30\n",
      "Training Loss: 0.35515581236592236\n",
      "Validation Loss: 0.3640088425700072\n",
      "Validation Accuracy: 87.24124431610107%\n",
      "epoch 23/30\n",
      "Training Loss: 0.35013820531208123\n",
      "Validation Loss: 0.37883157961687464\n",
      "Validation Accuracy: 86.8332028388977%\n",
      "epoch 24/30\n",
      "Training Loss: 0.35643983208167274\n",
      "Validation Loss: 0.37893747713915105\n",
      "Validation Accuracy: 86.99243664741516%\n",
      "epoch 25/30\n",
      "Training Loss: 0.3524929304589341\n",
      "Validation Loss: 0.3647109416734641\n",
      "Validation Accuracy: 87.79856562614441%\n",
      "epoch 26/30\n",
      "Training Loss: 0.3436554703694671\n",
      "Validation Loss: 0.3894314716101452\n",
      "Validation Accuracy: 86.92277073860168%\n",
      "epoch 27/30\n",
      "Training Loss: 0.34631905309172833\n",
      "Validation Loss: 0.3841641531533496\n",
      "Validation Accuracy: 87.45023608207703%\n",
      "epoch 28/30\n",
      "Training Loss: 0.34563401650422926\n",
      "Validation Loss: 0.3778915858952103\n",
      "Validation Accuracy: 87.12181448936462%\n",
      "epoch 29/30\n",
      "Training Loss: 0.3423275955752142\n",
      "Validation Loss: 0.3709932789681064\n",
      "Validation Accuracy: 87.40047812461853%\n",
      "epoch 30/30\n",
      "Training Loss: 0.3405397417687023\n",
      "Validation Loss: 0.37102992315391065\n",
      "Validation Accuracy: 87.04219460487366%\n"
     ]
    }
   ],
   "source": [
    "## Train your model with dropout, and monitor the training progress with the validation loss and accuracy\n",
    "model = Classifier()\n",
    "criterion = nn.NLLLoss()\n",
    "optimizer = optim.Adam(model.parameters(), lr=0.003)\n",
    "\n",
    "epochs = 30\n",
    "steps = 0\n",
    "\n",
    "train_losses, test_losses = [], []  # per epoch\n",
    "for e in range(epochs):\n",
    "    running_train_loss = 0\n",
    "    \n",
    "    for images, labels in trainloader:\n",
    "        optimizer.zero_grad()\n",
    "        \n",
    "        log_ps = model(images)\n",
    "        loss = criterion(log_ps, labels)\n",
    "        loss.backward()\n",
    "        optimizer.step()\n",
    "        \n",
    "        running_train_loss += loss.item()\n",
    "        \n",
    "    else:  # will execute after trainloader's for loop is done\n",
    "        ## Implement the validation pass and print out the validation accuracy\n",
    "        running_test_loss = 0\n",
    "        with torch.no_grad():\n",
    "            model.eval()\n",
    "            running_accuracy = 0\n",
    "            for images, labels in iter(testloader):\n",
    "                log_ps = model(images)\n",
    "                loss = criterion(log_ps, labels)\n",
    "\n",
    "                ps = torch.exp(log_ps)\n",
    "                top_p, top_class = ps.topk(1, dim=1)\n",
    "                equals = top_class == labels.view(*top_class.shape)\n",
    "                \n",
    "                running_accuracy += torch.mean(equals.type(torch.FloatTensor))\n",
    "                running_test_loss += loss.item()\n",
    "        \n",
    "        model.train()\n",
    "        accuracy = running_accuracy / len(testloader)\n",
    "    \n",
    "        train_loss, test_loss = running_train_loss/len(trainloader), running_test_loss/len(testloader)\n",
    "        train_losses += [train_loss]\n",
    "        test_losses += [test_loss]\n",
    "        print(f\"epoch {e+1}/{epochs}\")\n",
    "        print(f'Training Loss: {train_loss}')\n",
    "        print(f'Validation Loss: {test_loss}')\n",
    "        print(f'Validation Accuracy: {accuracy.item()*100}%')\n",
    "    "
   ]
  },
  {
   "cell_type": "code",
   "execution_count": 47,
   "metadata": {},
   "outputs": [
    {
     "data": {
      "image/png": "[encoded data removed]",
      "text/plain": [
       "<Figure size 432x288 with 1 Axes>"
      ]
     },
     "metadata": {
      "needs_background": "light"
     },
     "output_type": "display_data"
    }
   ],
   "source": [
    "%matplotlib inline\n",
    "import matplotlib.pyplot as plt\n",
    "\n",
    "plt.figure()\n",
    "plt.plot(train_losses)\n",
    "plt.plot(test_losses)\n",
    "plt.legend([\"Training loss\", \"Validation loss\"])\n",
    "plt.show()"
   ]
  },
  {
   "cell_type": "markdown",
   "metadata": {},
   "source": [
    "## Inference\n",
    "\n",
    "Now that the model is trained, we can use it for inference. We've done this before, but now we need to remember to set the model in inference mode with `model.eval()`. You'll also want to turn off autograd with the `torch.no_grad()` context."
   ]
  },
  {
   "cell_type": "code",
   "execution_count": 52,
   "metadata": {},
   "outputs": [
    {
     "data": {
      "image/png": "[encoded data removed]",
      "text/plain": [
       "<Figure size 432x648 with 2 Axes>"
      ]
     },
     "metadata": {
      "needs_background": "light"
     },
     "output_type": "display_data"
    }
   ],
   "source": [
    "# Import helper module (should be in the repo)\n",
    "import helper\n",
    "\n",
    "# Test out your network!\n",
    "\n",
    "model.eval()\n",
    "\n",
    "dataiter = iter(testloader)\n",
    "images, labels = dataiter.next()\n",
    "img = images[0]\n",
    "# Convert 2D image to 1D vector\n",
    "img = img.view(1, 784)\n",
    "\n",
    "# Calculate the class probabilities (softmax) for img\n",
    "with torch.no_grad():\n",
    "    output = model.forward(img)\n",
    "\n",
    "ps = torch.exp(output)\n",
    "\n",
    "# Plot the image and probabilities\n",
    "helper.view_classify(img.view(1, 28, 28), ps, version='Fashion')"
   ]
  },
  {
   "cell_type": "markdown",
   "metadata": {},
   "source": [
    "## Next Up!\n",
    "\n",
    "In the next part, I'll show you how to save your trained models. In general, you won't want to train a model everytime you need it. Instead, you'll train once, save it, then load the model when you want to train more or use if for inference."
   ]
  }
 ],
 "metadata": {
  "kernelspec": {
   "display_name": "Python 3",
   "language": "python",
   "name": "python3"
  },
  "language_info": {
   "codemirror_mode": {
    "name": "ipython",
    "version": 3
   },
   "file_extension": ".py",
   "mimetype": "text/x-python",
   "name": "python",
   "nbconvert_exporter": "python",
   "pygments_lexer": "ipython3",
   "version": "3.6.13"
  }
 },
 "nbformat": 4,
 "nbformat_minor": 2
}
